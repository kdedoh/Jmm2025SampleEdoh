{
 "cells": [
  {
   "cell_type": "markdown",
   "metadata": {},
   "source": [
    "# Introduction to Jupyter Notebook"
   ]
  },
  {
   "cell_type": "markdown",
   "metadata": {},
   "source": [
    "# Boucing ball Jupiter Notebook\n",
    "## In this notebook we expolre the following\n",
    "\n",
    "This is some plain text that forms a paragraph. Add emphasis via **bold** and __bold__, or *italic* and _italic_. \n",
    "\n",
    "### Paragraphs must be separated by an empty line. \n",
    "\n",
    "* Sometimes we want to include lists. \n",
    "* Which can be bulleted using asterisks. \n",
    "    * Sub_item \n",
    "\n",
    "1. Lists can also be numbered. \n",
    "2. If we want an ordered list.\n",
    "\n",
    "```\n",
    "Highlighting a code\n",
    "s = 'My imported items'\n",
    "import pandas\n",
    "print(\"hello world\")\n",
    "```\n",
    "\n",
    "[It is possible to include hyperlinks](https://www.example.com)\n",
    "\n",
    "Inline code uses single backticks: foo(), and code blocks use triple backticks: \n",
    "```\n",
    "bar()\n",
    "``` \n",
    "Or can be indented by 4 spaces: \n",
    "\n",
    "    foo()\n",
    "\n",
    "And finally, adding images is easy: ![Alt text](https://www.example.com/image.jpg)"
   ]
  },
  {
   "cell_type": "code",
   "execution_count": 5,
   "metadata": {},
   "outputs": [
    {
     "name": "stdout",
     "output_type": "stream",
     "text": [
      "Hello World\n"
     ]
    }
   ],
   "source": [
    "import pandas as pd\n",
    "import matplotlib.pyplot as plt\n",
    "import seaborn as sns \n",
    "sns.set(style=\"darkgrid\")\n",
    "print(\"Hello World\")"
   ]
  },
  {
   "cell_type": "code",
   "execution_count": 6,
   "metadata": {
    "scrolled": true
   },
   "outputs": [
    {
     "name": "stdout",
     "output_type": "stream",
     "text": [
      "68\n",
      "27\n",
      "5.0\n",
      "<0, 3, 4>\n",
      "4.0\n",
      "  first_name last_name        date\n",
      "0      Alice     Smith  2023-01-05\n",
      "1      Bobby      Hadz  2023-03-25\n",
      "2       Carl     Lemon  2021-01-24\n"
     ]
    }
   ],
   "source": [
    "from vpython import *\n",
    "from math import *\n",
    "print(12+56)\n",
    "print(3**3)\n",
    "print(sqrt(25))\n",
    "a=vector(1,1,1) \n",
    "b=vector(-1,2,3) \n",
    "print(a+b) \n",
    "print(dot(a,b))\n",
    "\n",
    "#####################################################\n",
    "url = \"https://gist.githubusercontent.com/bobbyhadz/9061dd50a9c0d9628592b156326251ff/raw/381229ffc3a72c04066397c948cf386e10c98bee/employees.csv\"\n",
    "\n",
    "data1 = pd.read_csv(\n",
    "    url,\n",
    "    sep=',',\n",
    "    encoding='utf-8',\n",
    ")\n",
    "print(data1.head())\n",
    "\n",
    "\n",
    "\n",
    "url = \"https://archive.ics.uci.edu/ml/machine-learning-databases/iris/iris.data\"\n",
    "# Define the column names\n",
    "\n",
    "col_names = [\"sepal_length_in_cm\",\n",
    "            \"sepal_width_in_cm\",\n",
    "            \"petal_length_in_cm\",\n",
    "            \"petal_width_in_cm\",\n",
    "            \"class\"]\n",
    "\n",
    "iris_data = pd.read_csv(url)\n",
    "\n",
    "#print(iris_data.head()) \n"
   ]
  },
  {
   "cell_type": "code",
   "execution_count": 7,
   "metadata": {},
   "outputs": [
    {
     "name": "stdout",
     "output_type": "stream",
     "text": [
      "        lon      lat             company         location  \\\n",
      "0  -94.2088  36.3729             Walmart  Bentonville, AR   \n",
      "1  -96.9489  32.8140         Exxon Mobil       Irving, TX   \n",
      "2 -121.9780  37.7799             Chevron    San Ramon, CA   \n",
      "3  -95.9980  41.2524  Berkshire Hathaway        Omaha, NE   \n",
      "4 -122.0320  37.3230               Apple    Cupertino, CA   \n",
      "\n",
      "                                   industry state         city  \n",
      "0                     General Merchandisers    AR  Bentonville  \n",
      "1                        Petroleum Refining    TX       Irving  \n",
      "2                        Petroleum Refining    CA    San Ramon  \n",
      "3  Insurance: Property and Casualty (Stock)    NE        Omaha  \n",
      "4               Computers, Office Equipment    CA    Cupertino  \n"
     ]
    }
   ],
   "source": [
    "\n",
    "####################################################\n",
    "#data2 = pd.read_csv('fortune500.csv',name=col_names)\n",
    "data2 = pd.read_csv('fortune500.csv')\n",
    "\n",
    "print(data2.head())\n",
    "\n",
    "\n",
    "####################################################\n"
   ]
  },
  {
   "cell_type": "code",
   "execution_count": 8,
   "metadata": {
    "scrolled": false
   },
   "outputs": [
    {
     "name": "stdout",
     "output_type": "stream",
     "text": [
      "<1, -4, 3>\n",
      "1.7320508075688772\n",
      "<0, 0.6, 0.8>\n",
      "0.9092974268256817\n",
      "-1.0\n",
      "i is equal to 4\n"
     ]
    },
    {
     "data": {
      "application/javascript": [
       "if (typeof Jupyter !== \"undefined\") {require.undef(\"nbextensions/vpython_libraries/glow.min\");}else{element.textContent = ' ';}"
      ],
      "text/plain": [
       "<IPython.core.display.Javascript object>"
      ]
     },
     "metadata": {},
     "output_type": "display_data"
    },
    {
     "data": {
      "application/javascript": [
       "if (typeof Jupyter !== \"undefined\") {require.undef(\"nbextensions/vpython_libraries/glowcomm\");}else{element.textContent = ' ';}"
      ],
      "text/plain": [
       "<IPython.core.display.Javascript object>"
      ]
     },
     "metadata": {},
     "output_type": "display_data"
    },
    {
     "data": {
      "application/javascript": [
       "if (typeof Jupyter !== \"undefined\") {require.undef(\"nbextensions/vpython_libraries/jquery-ui.custom.min\");}else{element.textContent = ' ';}"
      ],
      "text/plain": [
       "<IPython.core.display.Javascript object>"
      ]
     },
     "metadata": {},
     "output_type": "display_data"
    },
    {
     "data": {
      "application/javascript": [
       "if (typeof Jupyter !== \"undefined\") {require([\"nbextensions/vpython_libraries/glow.min\"], function(){console.log(\"GLOW LOADED\");});}else{element.textContent = ' ';}"
      ],
      "text/plain": [
       "<IPython.core.display.Javascript object>"
      ]
     },
     "metadata": {},
     "output_type": "display_data"
    },
    {
     "data": {
      "application/javascript": [
       "if (typeof Jupyter !== \"undefined\") {require([\"nbextensions/vpython_libraries/glowcomm\"], function(){console.log(\"GLOWCOMM LOADED\");});}else{element.textContent = ' ';}"
      ],
      "text/plain": [
       "<IPython.core.display.Javascript object>"
      ]
     },
     "metadata": {},
     "output_type": "display_data"
    },
    {
     "data": {
      "application/javascript": [
       "if (typeof Jupyter !== \"undefined\") {require([\"nbextensions/vpython_libraries/jquery-ui.custom.min\"], function(){console.log(\"JQUERY LOADED\");});}else{element.textContent = ' ';}"
      ],
      "text/plain": [
       "<IPython.core.display.Javascript object>"
      ]
     },
     "metadata": {},
     "output_type": "display_data"
    }
   ],
   "source": [
    "print(cross(a,b)) \n",
    "print(mag(a)) \n",
    "print(norm(a+b)) \n",
    "print(sin(2)) \n",
    "print(cos(pi))\n",
    "i=1 \n",
    "while i<10: \n",
    "    if i==4: \n",
    "        print(\"i is equal to\",i) \n",
    "    i+=1\n",
    "\n",
    "ball=sphere(pos=vector(0,0,0),radius=0.5,color=color.cyan)\n",
    "WallL=box(pos=vector(-10,0,0),size=vector(0.1,10,5),color=color.blue) \n",
    "WallR=box(pos=vector(10,0,0),size=vector(0.1,10,5),color=color.blue)"
   ]
  },
  {
   "cell_type": "code",
   "execution_count": null,
   "metadata": {},
   "outputs": [],
   "source": []
  }
 ],
 "metadata": {
  "kernelspec": {
   "display_name": "Python 3 (ipykernel)",
   "language": "python",
   "name": "python3"
  },
  "language_info": {
   "codemirror_mode": {
    "name": "ipython",
    "version": 3
   },
   "file_extension": ".py",
   "mimetype": "text/x-python",
   "name": "python",
   "nbconvert_exporter": "python",
   "pygments_lexer": "ipython3",
   "version": "3.10.9"
  }
 },
 "nbformat": 4,
 "nbformat_minor": 4
}
